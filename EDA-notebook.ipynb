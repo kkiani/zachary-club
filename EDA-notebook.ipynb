{
 "metadata": {
  "language_info": {
   "codemirror_mode": {
    "name": "ipython",
    "version": 3
   },
   "file_extension": ".py",
   "mimetype": "text/x-python",
   "name": "python",
   "nbconvert_exporter": "python",
   "pygments_lexer": "ipython3",
   "version": "3.9.0-final"
  },
  "orig_nbformat": 2,
  "kernelspec": {
   "name": "python3",
   "display_name": "Python 3.9.0 64-bit ('venv')",
   "metadata": {
    "interpreter": {
     "hash": "538dbabbf7b32b7c88fc433b7c4e54232c6e0ad832885fddc308dca3f7eec123"
    }
   }
  }
 },
 "nbformat": 4,
 "nbformat_minor": 2,
 "cells": [
  {
   "cell_type": "code",
   "execution_count": 1,
   "metadata": {},
   "outputs": [
    {
     "output_type": "stream",
     "name": "stderr",
     "text": [
      "Using backend: pytorch\n"
     ]
    }
   ],
   "source": [
    "import os, pickle\n",
    "import numpy as np\n",
    "import torch.nn as nn\n",
    "from dgl.nn import GraphConv"
   ]
  },
  {
   "cell_type": "code",
   "execution_count": 2,
   "metadata": {},
   "outputs": [],
   "source": [
    "import dgl\n",
    "import torch as th\n",
    "from model.graph_neural_network import GraphConvolutionNetwork"
   ]
  },
  {
   "cell_type": "code",
   "execution_count": 3,
   "metadata": {},
   "outputs": [],
   "source": [
    "with open(os.path.join('data', 'edge_list.pickle'), 'rb') as f:\n",
    "    edge_list = pickle.load(f)\n",
    "    edge_list = [[int(x[0]), int(x[1])] for x in edge_list]"
   ]
  },
  {
   "cell_type": "code",
   "execution_count": 4,
   "metadata": {},
   "outputs": [
    {
     "output_type": "stream",
     "name": "stderr",
     "text": [
      "/Users/kiarash/projects/zachary_club/venv/lib/python3.9/site-packages/dgl/base.py:45: DGLWarning: Recommend creating graphs by `dgl.graph(data)` instead of `dgl.DGLGraph(data)`.\n  return warnings.warn(message, category=category, stacklevel=1)\n"
     ]
    }
   ],
   "source": [
    "g = dgl.DGLGraph()\n",
    "g.add_nodes(34)\n",
    "src, dst = tuple(zip(*edge_list))\n",
    "g.add_edges(src, dst)\n",
    "g.add_edges(dst, src)"
   ]
  },
  {
   "cell_type": "code",
   "execution_count": 5,
   "metadata": {},
   "outputs": [
    {
     "output_type": "stream",
     "name": "stdout",
     "text": [
      "Softmax(\n  dim=tensor([[-6.1579e-03,  1.9933e-01],\n          [ 9.4304e-03,  9.7649e-02],\n          [-5.2074e-03,  6.9766e-02],\n          [ 2.2568e-03,  5.6568e-02],\n          [-2.5714e-02,  1.2417e-01],\n          [-3.3385e-02,  1.3949e-01],\n          [-2.0830e-02,  1.2344e-01],\n          [-2.1935e-03,  5.8076e-02],\n          [-7.1500e-03,  6.7947e-02],\n          [ 9.8217e-05,  3.7305e-02],\n          [-1.1217e-02,  1.0564e-01],\n          [-1.1793e-03,  1.9185e-02],\n          [-1.3671e-03,  2.2239e-02],\n          [-3.3487e-03,  5.1864e-02],\n          [-1.5451e-02,  1.1227e-02],\n          [-1.5451e-02,  1.1227e-02],\n          [-8.8690e-03,  1.1248e-01],\n          [-4.8598e-03,  3.6025e-02],\n          [-1.5451e-02,  1.1227e-02],\n          [-5.7582e-03,  2.9311e-02],\n          [-1.5451e-02,  1.1227e-02],\n          [-4.8598e-03,  3.6025e-02],\n          [-1.5451e-02,  1.1227e-02],\n          [-3.0134e-02,  5.0302e-02],\n          [-2.0801e-02,  5.9848e-02],\n          [ 8.3220e-03,  7.7863e-02],\n          [-1.0152e-02,  1.5059e-02],\n          [ 8.1535e-03,  7.9544e-02],\n          [-9.3244e-04,  4.6933e-02],\n          [-8.6883e-03,  4.1767e-02],\n          [-1.1729e-02,  4.9968e-02],\n          [-1.9865e-02,  6.8941e-02],\n          [ 2.8992e-03,  1.6553e-01],\n          [-3.3482e-04,  1.6378e-01]], grad_fn=<AddBackward0>)\n)\n"
     ]
    }
   ],
   "source": [
    "model = GraphConvolutionNetwork(34, 5, 2)\n",
    "feat = th.eye(34)\n",
    "res = model(g, feat)\n",
    "print(res)"
   ]
  },
  {
   "cell_type": "code",
   "execution_count": null,
   "metadata": {},
   "outputs": [],
   "source": [
    "# g = dgl.graph(([0,1,2,3,2,5], [1,2,3,4,0,3]))\n",
    "# g = dgl.add_self_loop(g)\n",
    "feat = th.eye(34)\n",
    "conv = GraphConv(34, 2)\n",
    "res = conv(g, feat)\n",
    "print(conv)"
   ]
  },
  {
   "cell_type": "code",
   "execution_count": null,
   "metadata": {},
   "outputs": [],
   "source": []
  },
  {
   "cell_type": "code",
   "execution_count": null,
   "metadata": {},
   "outputs": [],
   "source": []
  }
 ]
}